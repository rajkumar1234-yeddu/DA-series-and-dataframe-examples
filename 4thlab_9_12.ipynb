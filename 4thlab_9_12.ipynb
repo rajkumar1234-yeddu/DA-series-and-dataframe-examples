{
  "cells": [
    {
      "cell_type": "markdown",
      "metadata": {
        "id": "view-in-github",
        "colab_type": "text"
      },
      "source": [
        "<a href=\"https://colab.research.google.com/github/rajkumar1234-yeddu/DA-series-and-dataframe-examples/blob/main/4thlab_9_12.ipynb\" target=\"_parent\"><img src=\"https://colab.research.google.com/assets/colab-badge.svg\" alt=\"Open In Colab\"/></a>"
      ]
    },
    {
      "cell_type": "code",
      "execution_count": null,
      "id": "dcee5297",
      "metadata": {
        "id": "dcee5297"
      },
      "outputs": [],
      "source": [
        "import numpy as np\n",
        "import pandas as pd"
      ]
    },
    {
      "cell_type": "code",
      "execution_count": null,
      "id": "0d6b3b23",
      "metadata": {
        "id": "0d6b3b23",
        "outputId": "a9a0b877-794e-45b7-f506-f5da301988b8"
      },
      "outputs": [
        {
          "name": "stdout",
          "output_type": "stream",
          "text": [
            "0    12\n",
            "1    42\n",
            "2    34\n",
            "3    68\n",
            "dtype: int64\n",
            "0    59\n",
            "1    82\n",
            "2    95\n",
            "3    72\n",
            "dtype: int64\n"
          ]
        }
      ],
      "source": [
        "#1\n",
        "data1 = [12, 42, 34, 68]\n",
        "series1 = pd.Series(data1)\n",
        "print(series1)\n",
        "data2 = [59 ,82, 95, 72]\n",
        "series2 = pd.Series(data2)\n",
        "print(series2)"
      ]
    },
    {
      "cell_type": "code",
      "execution_count": null,
      "id": "e1c338b6",
      "metadata": {
        "id": "e1c338b6",
        "outputId": "2a5316fe-9a81-4a95-80bb-252c768984b0"
      },
      "outputs": [
        {
          "data": {
            "text/plain": [
              "[12, 42, 34, 68]"
            ]
          },
          "execution_count": 22,
          "metadata": {},
          "output_type": "execute_result"
        }
      ],
      "source": [
        "#2\n",
        "series1.tolist()"
      ]
    },
    {
      "cell_type": "code",
      "execution_count": null,
      "id": "bb1224d5",
      "metadata": {
        "id": "bb1224d5",
        "outputId": "a1472953-fa6e-4491-d440-7a492eb7beca"
      },
      "outputs": [
        {
          "name": "stdout",
          "output_type": "stream",
          "text": [
            "Add Series:\n",
            " 0     71\n",
            "1    124\n",
            "2    129\n",
            "3    140\n",
            "dtype: int64\n",
            "Subtract Series:\n",
            " 0   -47\n",
            "1   -40\n",
            "2   -61\n",
            "3    -4\n",
            "dtype: int64\n",
            "Multiply Series:\n",
            " 0     708\n",
            "1    3444\n",
            "2    3230\n",
            "3    4896\n",
            "dtype: int64\n",
            "Multiply Series:\n",
            " 0    0.203390\n",
            "1    0.512195\n",
            "2    0.357895\n",
            "3    0.944444\n",
            "dtype: float64\n"
          ]
        }
      ],
      "source": [
        "#3\n",
        "series3 = series1.add(series2)\n",
        "print(\"Add Series:\\n\",series3)\n",
        "series4 = series1.subtract(series2)\n",
        "print(\"Subtract Series:\\n\",series4)\n",
        "series5 = series1.mul(series2)\n",
        "print(\"Multiply Series:\\n\",series5)\n",
        "series6 = series1.div(series2)\n",
        "print(\"Multiply Series:\\n\",series6)"
      ]
    },
    {
      "cell_type": "code",
      "execution_count": null,
      "id": "97175814",
      "metadata": {
        "id": "97175814",
        "outputId": "8077785d-9ce3-4b27-9b19-145c39644fb6"
      },
      "outputs": [
        {
          "name": "stdout",
          "output_type": "stream",
          "text": [
            "0      asDfg\n",
            "1       hJkl\n",
            "2     Qwerty\n",
            "3    zxcvbNm\n",
            "dtype: object\n",
            "0      ASDFG\n",
            "1       HJKL\n",
            "2     QWERTY\n",
            "3    ZXCVBNM\n",
            "dtype: object\n",
            "0    5\n",
            "1    4\n",
            "2    6\n",
            "3    7\n",
            "dtype: int64\n",
            "0      asdfg\n",
            "1       hjkl\n",
            "2     qwerty\n",
            "3    zxcvbnm\n",
            "dtype: object\n"
          ]
        }
      ],
      "source": [
        "#4\n",
        "d1 = ['asDfg', 'hJkl', 'Qwerty', 'zxcvbNm']\n",
        "seri1 = pd.Series(d1)\n",
        "print(seri1)\n",
        "print(seri1.str.upper())\n",
        "print(seri1.str.len())\n",
        "print(seri1.str.lower())"
      ]
    },
    {
      "cell_type": "code",
      "execution_count": null,
      "id": "345b3183",
      "metadata": {
        "id": "345b3183",
        "outputId": "3fa24414-df79-4241-efac-577fa33312d7"
      },
      "outputs": [
        {
          "name": "stdout",
          "output_type": "stream",
          "text": [
            "0         asDfg\n",
            "1       hJkl   \n",
            "2      Qwerty  \n",
            "3       zxcvbNm\n",
            "dtype: object\n",
            "0      asDfg\n",
            "1       hJkl\n",
            "2     Qwerty\n",
            "3    zxcvbNm\n",
            "dtype: object\n",
            "0       asDfg\n",
            "1     hJkl   \n",
            "2    Qwerty  \n",
            "3     zxcvbNm\n",
            "dtype: object\n",
            "0       asDfg\n",
            "1        hJkl\n",
            "2      Qwerty\n",
            "3     zxcvbNm\n",
            "dtype: object\n"
          ]
        }
      ],
      "source": [
        "#5\n",
        "d2 = ['   asDfg', 'hJkl   ', '  Qwerty  ', 'zxcvbNm']\n",
        "seri2 = pd.Series(d2)\n",
        "print(seri2)\n",
        "\n",
        "print(seri2.str.strip())\n",
        "print(seri2.str.lstrip())\n",
        "print(seri2.str.rstrip())"
      ]
    },
    {
      "cell_type": "code",
      "execution_count": null,
      "id": "99d83f72",
      "metadata": {
        "id": "99d83f72",
        "outputId": "44cc7a8b-abba-4510-92a8-c9c96aafa9e2"
      },
      "outputs": [
        {
          "name": "stdout",
          "output_type": "stream",
          "text": [
            "     std_name father_name      number\n",
            "1000     std1       name1  9876543210\n",
            "2000     std2       name2  8765432109\n",
            "3000     std3       name3  7654321098\n",
            "4000     std4       name4  6543210987\n"
          ]
        }
      ],
      "source": [
        "#6\n",
        "'''\n",
        "std_name = input(\"Enter Student names :\")\n",
        "std_name.split()\n",
        "father_name = input(\"Enter student's father names in order :\")\n",
        "father_name.split()\n",
        "number = input(\"Enter mobile number :\")\n",
        "number.split()\n",
        "ind = input(\"Enter roll numbers :\")\n",
        "ind = ind.split()\n",
        "data = {\n",
        "    'std_name' : std_name,\n",
        "    'father_name' : father_name,\n",
        "    'number' : number\n",
        "       }\n",
        "data = pd.DataFrame(data, index=ind)\n",
        "'''\n",
        "\n",
        "data = {\n",
        "    'std_name' : ['std1', 'std2', 'std3', 'std4'],\n",
        "    'father_name' : ['name1', 'name2', 'name3', 'name4'],\n",
        "    'number' : [9876543210, 8765432109, 7654321098, 6543210987]\n",
        "}\n",
        "ind = [1000, 2000, 3000, 4000]\n",
        "\n",
        "classes = pd.DataFrame(data, index=ind)\n",
        "print(classes)"
      ]
    },
    {
      "cell_type": "code",
      "execution_count": null,
      "id": "205e80ed",
      "metadata": {
        "id": "205e80ed",
        "outputId": "09ef2157-a3c9-4075-e87d-32909b61893d"
      },
      "outputs": [
        {
          "data": {
            "text/plain": [
              "['std1', 'std2', 'std3', 'std4']"
            ]
          },
          "execution_count": 102,
          "metadata": {},
          "output_type": "execute_result"
        }
      ],
      "source": [
        "#7\n",
        "(data['std_name'])   #.to_string(index=False)"
      ]
    },
    {
      "cell_type": "code",
      "execution_count": null,
      "id": "cae873ec",
      "metadata": {
        "id": "cae873ec",
        "outputId": "791bd421-a8e6-4dd2-af39-b62e15bedd85"
      },
      "outputs": [
        {
          "data": {
            "text/html": [
              "<div>\n",
              "<style scoped>\n",
              "    .dataframe tbody tr th:only-of-type {\n",
              "        vertical-align: middle;\n",
              "    }\n",
              "\n",
              "    .dataframe tbody tr th {\n",
              "        vertical-align: top;\n",
              "    }\n",
              "\n",
              "    .dataframe thead th {\n",
              "        text-align: right;\n",
              "    }\n",
              "</style>\n",
              "<table border=\"1\" class=\"dataframe\">\n",
              "  <thead>\n",
              "    <tr style=\"text-align: right;\">\n",
              "      <th></th>\n",
              "      <th>std_name</th>\n",
              "      <th>father_name</th>\n",
              "      <th>number</th>\n",
              "    </tr>\n",
              "  </thead>\n",
              "  <tbody>\n",
              "    <tr>\n",
              "      <th>1000</th>\n",
              "      <td>satya</td>\n",
              "      <td>name1</td>\n",
              "      <td>9876543210</td>\n",
              "    </tr>\n",
              "    <tr>\n",
              "      <th>2000</th>\n",
              "      <td>std2</td>\n",
              "      <td>name2</td>\n",
              "      <td>8765432109</td>\n",
              "    </tr>\n",
              "    <tr>\n",
              "      <th>3000</th>\n",
              "      <td>std3</td>\n",
              "      <td>name3</td>\n",
              "      <td>7654321098</td>\n",
              "    </tr>\n",
              "    <tr>\n",
              "      <th>4000</th>\n",
              "      <td>std4</td>\n",
              "      <td>name4</td>\n",
              "      <td>6543210987</td>\n",
              "    </tr>\n",
              "  </tbody>\n",
              "</table>\n",
              "</div>"
            ],
            "text/plain": [
              "     std_name father_name      number\n",
              "1000    satya       name1  9876543210\n",
              "2000     std2       name2  8765432109\n",
              "3000     std3       name3  7654321098\n",
              "4000     std4       name4  6543210987"
            ]
          },
          "execution_count": 106,
          "metadata": {},
          "output_type": "execute_result"
        }
      ],
      "source": [
        "#8\n",
        "#classes['std_name'] = 'satya'\n",
        "#classes['std_name'][1000]\n",
        "classes=classes.replace('std1', 'satya')\n",
        "classes"
      ]
    },
    {
      "cell_type": "code",
      "execution_count": null,
      "id": "77926e99",
      "metadata": {
        "id": "77926e99",
        "outputId": "0daefc7b-8462-49ef-fa38-a2a715d8a675"
      },
      "outputs": [
        {
          "data": {
            "text/html": [
              "<div>\n",
              "<style scoped>\n",
              "    .dataframe tbody tr th:only-of-type {\n",
              "        vertical-align: middle;\n",
              "    }\n",
              "\n",
              "    .dataframe tbody tr th {\n",
              "        vertical-align: top;\n",
              "    }\n",
              "\n",
              "    .dataframe thead th {\n",
              "        text-align: right;\n",
              "    }\n",
              "</style>\n",
              "<table border=\"1\" class=\"dataframe\">\n",
              "  <thead>\n",
              "    <tr style=\"text-align: right;\">\n",
              "      <th></th>\n",
              "      <th>std_name</th>\n",
              "      <th>father_name</th>\n",
              "      <th>number</th>\n",
              "      <th>grade</th>\n",
              "    </tr>\n",
              "  </thead>\n",
              "  <tbody>\n",
              "    <tr>\n",
              "      <th>1000</th>\n",
              "      <td>satya</td>\n",
              "      <td>name1</td>\n",
              "      <td>9876543210</td>\n",
              "      <td>9</td>\n",
              "    </tr>\n",
              "    <tr>\n",
              "      <th>2000</th>\n",
              "      <td>satya</td>\n",
              "      <td>name2</td>\n",
              "      <td>8765432109</td>\n",
              "      <td>8</td>\n",
              "    </tr>\n",
              "    <tr>\n",
              "      <th>3000</th>\n",
              "      <td>satya</td>\n",
              "      <td>name3</td>\n",
              "      <td>7654321098</td>\n",
              "      <td>10</td>\n",
              "    </tr>\n",
              "    <tr>\n",
              "      <th>4000</th>\n",
              "      <td>satya</td>\n",
              "      <td>name4</td>\n",
              "      <td>6543210987</td>\n",
              "      <td>7</td>\n",
              "    </tr>\n",
              "  </tbody>\n",
              "</table>\n",
              "</div>"
            ],
            "text/plain": [
              "     std_name father_name      number  grade\n",
              "1000    satya       name1  9876543210      9\n",
              "2000    satya       name2  8765432109      8\n",
              "3000    satya       name3  7654321098     10\n",
              "4000    satya       name4  6543210987      7"
            ]
          },
          "execution_count": 94,
          "metadata": {},
          "output_type": "execute_result"
        }
      ],
      "source": [
        "#9\n",
        "classes['grade']=[9,8,10,7]\n",
        "classes"
      ]
    },
    {
      "cell_type": "code",
      "execution_count": null,
      "id": "85431e18",
      "metadata": {
        "id": "85431e18",
        "outputId": "fc827476-e8e9-4839-e67b-990a4ce10b86"
      },
      "outputs": [
        {
          "data": {
            "text/html": [
              "<div>\n",
              "<style scoped>\n",
              "    .dataframe tbody tr th:only-of-type {\n",
              "        vertical-align: middle;\n",
              "    }\n",
              "\n",
              "    .dataframe tbody tr th {\n",
              "        vertical-align: top;\n",
              "    }\n",
              "\n",
              "    .dataframe thead th {\n",
              "        text-align: right;\n",
              "    }\n",
              "</style>\n",
              "<table border=\"1\" class=\"dataframe\">\n",
              "  <thead>\n",
              "    <tr style=\"text-align: right;\">\n",
              "      <th></th>\n",
              "      <th>branch</th>\n",
              "      <th>section</th>\n",
              "      <th>year</th>\n",
              "    </tr>\n",
              "  </thead>\n",
              "  <tbody>\n",
              "    <tr>\n",
              "      <th>0</th>\n",
              "      <td>cse</td>\n",
              "      <td>a</td>\n",
              "      <td>1</td>\n",
              "    </tr>\n",
              "    <tr>\n",
              "      <th>1</th>\n",
              "      <td>ece</td>\n",
              "      <td>b</td>\n",
              "      <td>2</td>\n",
              "    </tr>\n",
              "    <tr>\n",
              "      <th>2</th>\n",
              "      <td>eee</td>\n",
              "      <td>c</td>\n",
              "      <td>3</td>\n",
              "    </tr>\n",
              "  </tbody>\n",
              "</table>\n",
              "</div>"
            ],
            "text/plain": [
              "  branch section  year\n",
              "0    cse       a     1\n",
              "1    ece       b     2\n",
              "2    eee       c     3"
            ]
          },
          "execution_count": 100,
          "metadata": {},
          "output_type": "execute_result"
        }
      ],
      "source": [
        "#10\n",
        "dic = {\n",
        "    'branch' : ['cse', 'ece', 'eee'],\n",
        "    'section' : ['a', 'b', 'c'],\n",
        "    'year' : [1, 2, 3]\n",
        "}\n",
        "df= pd.DataFrame(dic)\n",
        "df"
      ]
    }
  ],
  "metadata": {
    "kernelspec": {
      "display_name": "Python 3 (ipykernel)",
      "language": "python",
      "name": "python3"
    },
    "language_info": {
      "codemirror_mode": {
        "name": "ipython",
        "version": 3
      },
      "file_extension": ".py",
      "mimetype": "text/x-python",
      "name": "python",
      "nbconvert_exporter": "python",
      "pygments_lexer": "ipython3",
      "version": "3.9.7"
    },
    "colab": {
      "provenance": [],
      "include_colab_link": true
    }
  },
  "nbformat": 4,
  "nbformat_minor": 5
}